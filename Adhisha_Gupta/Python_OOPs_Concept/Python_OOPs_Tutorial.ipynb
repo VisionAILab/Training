{
 "cells": [
  {
   "cell_type": "markdown",
   "metadata": {},
   "source": [
    "# Python OOPs Concepts"
   ]
  },
  {
   "cell_type": "code",
   "execution_count": null,
   "metadata": {},
   "outputs": [],
   "source": [
    "# Python supports Object oriented Programming, Functional Programming and Procedure Oriented Programming"
   ]
  },
  {
   "cell_type": "markdown",
   "metadata": {},
   "source": [
    "# Object and Classes"
   ]
  },
  {
   "cell_type": "code",
   "execution_count": 37,
   "metadata": {},
   "outputs": [],
   "source": [
    "#Class = attributes(variables) + behaviour(methods)\n",
    "class Computer: #Create Class Named Computer\n",
    "    \n",
    "    def __init__(self, cpu = \"\", ram = \"\"): #method for initializing variables, when we call an object the method calls itself automatically\n",
    "        self.cpu = cpu\n",
    "        self.ram = ram\n",
    "    \n",
    "    \n",
    "    def config(self): # Create Method in that class, here self is the object which we are passing\n",
    "        print(\" Hello...\")\n",
    "        print(\"Config is\", self.cpu, self.ram)\n",
    "     \n",
    "    \n",
    "#x=9    \n",
    "#print(type(x))\n",
    "\n",
    "#a='9'\n",
    "#print(type(a))\n",
    "\n",
    "        \n",
    "comp1 = Computer() #Creating an object named comp1 of class computer\n",
    "#print(type(comp1))\n",
    "\n",
    "# Here Computer() is our constructor it will call init method\n",
    "comp2 = Computer('i5',16)#Seond object\n",
    "\n",
    "\n",
    "\n",
    "#Size of an object depends on the no. of variables and size of each variable.\n"
   ]
  },
  {
   "cell_type": "code",
   "execution_count": 38,
   "metadata": {},
   "outputs": [
    {
     "name": "stdout",
     "output_type": "stream",
     "text": [
      " Hello...\n",
      "Config is  \n"
     ]
    }
   ],
   "source": [
    "Computer.config(comp1) #Calling the method with object Name (comp1=self as comp1 is parameter we are passing in config)"
   ]
  },
  {
   "cell_type": "code",
   "execution_count": 39,
   "metadata": {},
   "outputs": [
    {
     "name": "stdout",
     "output_type": "stream",
     "text": [
      " Hello...\n",
      "Config is  \n"
     ]
    }
   ],
   "source": [
    "comp1.config() #config will take comp1 as parameter  and pass that in self"
   ]
  },
  {
   "cell_type": "code",
   "execution_count": 40,
   "metadata": {},
   "outputs": [
    {
     "name": "stdout",
     "output_type": "stream",
     "text": [
      " Hello...\n",
      "Config is i5 16\n"
     ]
    }
   ],
   "source": [
    "comp2.config()     "
   ]
  },
  {
   "cell_type": "code",
   "execution_count": 41,
   "metadata": {},
   "outputs": [
    {
     "name": "stdout",
     "output_type": "stream",
     "text": [
      "2394887609368\n",
      "2394887608416\n"
     ]
    }
   ],
   "source": [
    "print(id(comp1))\n",
    "print(id(comp2))"
   ]
  },
  {
   "cell_type": "code",
   "execution_count": 49,
   "metadata": {},
   "outputs": [
    {
     "name": "stdout",
     "output_type": "stream",
     "text": [
      "different\n",
      "42\n",
      "28\n",
      "Rashi\n",
      "Hary\n"
     ]
    }
   ],
   "source": [
    "# Constructor, self and comparing objects in python\n",
    "class Name:\n",
    "    \n",
    "    def __init__(self):\n",
    "        self.name = \"Hary\"\n",
    "        self.age = 28\n",
    "        \n",
    "    def update(self): #self is pointer, it is referring to the object\n",
    "        self.age = 42\n",
    "        \n",
    "    def compare(self,other):\n",
    "        if self.age == other.age:\n",
    "            return True\n",
    "        else:\n",
    "            return False\n",
    "        \n",
    "        \n",
    "c1 = Name() # Here Name() is constructor\n",
    "c2 = Name()\n",
    "\n",
    "c1.name = \"Rashi\"\n",
    "\n",
    "#c1.update()\n",
    "\n",
    "if c1.compare(c2): #C1 becomes self and c2 becomes other\n",
    "    print(\"Same\")\n",
    "else:\n",
    "    print(\"different\")\n",
    "\n",
    "\n",
    "\n",
    "print(c1.age)\n",
    "print(c2.age)\n",
    "print(c1.name)\n",
    "print(c2.name)"
   ]
  },
  {
   "cell_type": "code",
   "execution_count": 52,
   "metadata": {},
   "outputs": [
    {
     "name": "stdout",
     "output_type": "stream",
     "text": [
      "BMW 0 6\n",
      "BMW 10 6\n"
     ]
    }
   ],
   "source": [
    "#Types of Variables\n",
    "#1 is Instance variable and other is class(static) variable\n",
    "\n",
    "# variable defining inside the init is instance variable \n",
    "# variable defining outside the init and inside the class is class variable\n",
    "\n",
    "# namespace  is an area where you create and store variable\n",
    "# There are 2 namespaces, Class Namespace where all the class variables are stored and object/instance namespace where all the instance variables are stored\n",
    "\n",
    "class Car:\n",
    "    \n",
    "    wheels = 4 # This is class variable\n",
    "    \n",
    "    def __init__(self):\n",
    "        self.mil =10\n",
    "        self.com = \"BMW\" # These are instance variable that is different for different objects\n",
    "        \n",
    "c1 = Car()\n",
    "c2 = Car()\n",
    "\n",
    "c1.mil = 0\n",
    "\n",
    "Car.wheels = 6\n",
    "print(c1.com, c1.mil, c1.wheels)\n",
    "print(c2.com, c2.mil, c2.wheels)\n",
    "        \n"
   ]
  },
  {
   "cell_type": "code",
   "execution_count": 58,
   "metadata": {},
   "outputs": [
    {
     "name": "stdout",
     "output_type": "stream",
     "text": [
      "48.0\n",
      "Telusko\n",
      "This is Student Class\n"
     ]
    }
   ],
   "source": [
    "#Types of methods in python, There are 3 types of methods in python i.e. Instance Method, Class Method and Static Method\n",
    "#Instance method is of 2 types i.e. Accessor Method and Mutator Method\n",
    "# if we want to fetch the values of instance method we can use accessor\n",
    "#if we want to modify the values of instance method we can use mutator \n",
    "class Student:\n",
    "        school = \"Telusko\" #Class Variable\n",
    "        \n",
    "        def __init__(self,m1,m2,m3):\n",
    "            self.m1 =m1 #Here m1,m2,m3 is instance variable\n",
    "            self.m2 =m2\n",
    "            self.m3 =m3\n",
    "            \n",
    "        def avg(self): # Here avg is an instance method as it works with the objects\n",
    "            return(self.m1 + self.m2 + self.m3)/3\n",
    "        \n",
    "        #def get_m1(self):  #Accessor Method (fetch values)\n",
    "            #return self.m1\n",
    "        \n",
    "        #def set_m1(self,value): #Mutator Method(Modify values)\n",
    "            #self.m1 = value\n",
    "        \n",
    "        @classmethod #This is decorators\n",
    "        def getSchool(cls): #This is class method,in class method we use cls as argument not self\n",
    "            return cls.school\n",
    "        \n",
    "        @staticmethod #decotrator\n",
    "        def info(): #This is static method, nothing to do with class variable and instance variable go with static method \n",
    "            print(\"This is Student Class\")\n",
    "                 \n",
    "        \n",
    "        \n",
    "        \n",
    "             \n",
    "        \n",
    "s1 = Student(34,67,43)\n",
    "s2 = Student(89,32,12)\n",
    "\n",
    "print(s1.avg())\n",
    "print(Student.getSchool())\n",
    "Student.info()\n",
    "        \n",
    "        "
   ]
  },
  {
   "cell_type": "code",
   "execution_count": 66,
   "metadata": {},
   "outputs": [
    {
     "name": "stdout",
     "output_type": "stream",
     "text": [
      "Navin 2\n",
      "HP i5 8\n"
     ]
    }
   ],
   "source": [
    "#Inner Class in Python (Class in class)\n",
    "\n",
    "class Student: #(Outer Class)\n",
    "        \n",
    "    def __init__(self,name,rollno):\n",
    "        self.name =name \n",
    "        self.rollno = rollno\n",
    "        self.lap =self.Laptop() #Create object of inner class in outer class init\n",
    "        \n",
    "    def show(self):\n",
    "        print(self.name,self.rollno)\n",
    "        self.lap.show( )\n",
    "        \n",
    "    class Laptop: #Class in class(Inner Class)\n",
    "        \n",
    "        def __init__(self):\n",
    "            self.brand = 'HP' \n",
    "            self.cpu = 'i5'\n",
    "            self.ram = 8\n",
    "            \n",
    "        def show(self):\n",
    "            print(self.brand,self.cpu, self.ram)\n",
    "        \n",
    "            \n",
    "s1 =  Student('Navin',2)\n",
    "s2 = Student('Jenny',3)\n",
    "\n",
    "s1.show()\n",
    "\n",
    "# print(s1.lap.brand)\n",
    "#lap1 = Student.Laptop()\n",
    "\n",
    "#You can create object of inner class inside the outer class\n",
    "#Or\n",
    "#You can create object of inner class outside the outer class provided you use outer class name to call it\n",
    "\n",
    "        \n",
    "\n"
   ]
  },
  {
   "cell_type": "markdown",
   "metadata": {},
   "source": [
    "# Inheritance"
   ]
  },
  {
   "cell_type": "code",
   "execution_count": 68,
   "metadata": {},
   "outputs": [
    {
     "name": "stdout",
     "output_type": "stream",
     "text": [
      "Feature 1 is working\n",
      "Feature 2 is working\n",
      "Feature 1 is working\n",
      "Feature 2 is working\n",
      "Feature 3 is working\n",
      "Feature 4 is working\n"
     ]
    }
   ],
   "source": [
    "#Inheritance in Python\n",
    "#This is single level inheritance\n",
    "class A: # Parent Class/Super Class\n",
    "    \n",
    "    def feature1(self):\n",
    "        print(\"Feature 1 is working\")\n",
    "        \n",
    "    def feature2(self):\n",
    "        print(\"Feature 2 is working\")\n",
    "        \n",
    "class B(A): #Child class/ Sub class , Class B is inheriting the features from class A\n",
    "    \n",
    "    def feature3(self):\n",
    "        print(\"Feature 3 is working\")\n",
    "        \n",
    "    def feature4(self):\n",
    "        print(\"Feature 4 is working\")\n",
    "    \n",
    "    \n",
    "a1 = A()\n",
    "a1.feature1()\n",
    "a1.feature2()\n",
    "\n",
    "b1 = B()\n",
    "\n",
    "b1.feature1()\n",
    "b1.feature2()\n",
    "b1.feature3()\n",
    "b1.feature4()\n",
    "\n",
    "\n",
    "\n"
   ]
  },
  {
   "cell_type": "code",
   "execution_count": 70,
   "metadata": {},
   "outputs": [
    {
     "name": "stdout",
     "output_type": "stream",
     "text": [
      "Feature 1 is working\n",
      "Feature 2 is working\n",
      "Feature 3 is working\n",
      "Feature 4 is working\n",
      "Feature 5 is working\n"
     ]
    }
   ],
   "source": [
    "#Multi-level Inheritance\n",
    "\n",
    "class A: # Parent Class \n",
    "    \n",
    "    def feature1(self):\n",
    "        print(\"Feature 1 is working\")\n",
    "        \n",
    "    def feature2(self):\n",
    "        print(\"Feature 2 is working\")\n",
    "        \n",
    "class B(A): # Class B is inheriting the features from class A\n",
    "    \n",
    "    def feature3(self):\n",
    "        print(\"Feature 3 is working\")\n",
    "        \n",
    "    def feature4(self):\n",
    "        print(\"Feature 4 is working\")\n",
    "        \n",
    "class C(B): #Child class can access all the features from parent and grandparent\n",
    "    \n",
    "    def feature5(self):\n",
    "        print(\"Feature 5 is working\")\n",
    "    \n",
    "    \n",
    "a1 = A()\n",
    "#a1.feature1()\n",
    "#a1.feature2()\n",
    "\n",
    "b1 = B()\n",
    "\n",
    "#b1.feature1()\n",
    "#b1.feature2()\n",
    "#b1.feature3()\n",
    "#b1.feature4()\n",
    "\n",
    "c1 = C()\n",
    "c1.feature1()\n",
    "c1.feature2()\n",
    "c1.feature3()\n",
    "c1.feature4()\n",
    "c1.feature5()\n"
   ]
  },
  {
   "cell_type": "code",
   "execution_count": 73,
   "metadata": {},
   "outputs": [
    {
     "name": "stdout",
     "output_type": "stream",
     "text": [
      "Feature 1 is working\n",
      "Feature 2 is working\n",
      "Feature 3 is working\n",
      "Feature 4 is working\n",
      "Feature 1 is working\n",
      "Feature 2 is working\n",
      "Feature 3 is working\n",
      "Feature 4 is working\n",
      "Feature 5 is working\n"
     ]
    }
   ],
   "source": [
    "#Multiple Inheritance\n",
    "\n",
    "class A: \n",
    "    \n",
    "    def feature1(self):\n",
    "        print(\"Feature 1 is working\")\n",
    "        \n",
    "    def feature2(self):\n",
    "        print(\"Feature 2 is working\")\n",
    "        \n",
    "class B: \n",
    "    \n",
    "    def feature3(self):\n",
    "        print(\"Feature 3 is working\")\n",
    "        \n",
    "    def feature4(self):\n",
    "        print(\"Feature 4 is working\")\n",
    "        \n",
    "class C(A,B): #Class C can access the features from both class A and B\n",
    "    \n",
    "    def feature5(self):\n",
    "        print(\"Feature 5 is working\")\n",
    "    \n",
    "    \n",
    "a1 = A()\n",
    "a1.feature1()\n",
    "a1.feature2()\n",
    "\n",
    "b1 = B()\n",
    "b1.feature3()\n",
    "b1.feature4()\n",
    "\n",
    "c1 = C()\n",
    "c1.feature1()\n",
    "c1.feature2()\n",
    "c1.feature3()\n",
    "c1.feature4()\n",
    "c1.feature5()\n",
    "\n"
   ]
  },
  {
   "cell_type": "code",
   "execution_count": 80,
   "metadata": {},
   "outputs": [
    {
     "name": "stdout",
     "output_type": "stream",
     "text": [
      "In A init\n",
      "In B init\n"
     ]
    }
   ],
   "source": [
    "#Constructor in Inheritance \n",
    "\n",
    "#Sub class can access all the features of super class but Super class can not access any features of sub class\n",
    "class A: \n",
    "    \n",
    "    def __init__(self):\n",
    "         print(\"In A init\")\n",
    "        \n",
    "    def feature1(self):\n",
    "        print(\"Feature 1 is working\")\n",
    "        \n",
    "    def feature2(self):\n",
    "        print(\"Feature 2 is working\")\n",
    "        \n",
    "class B(A): \n",
    "    \n",
    "    def __init__(self):\n",
    "        super().__init__()\n",
    "        print(\"In B init\")\n",
    "    \n",
    "    def feature3(self):\n",
    "        print(\"Feature 3 is working\")\n",
    "        \n",
    "    def feature4(self):\n",
    "        print(\"Feature 4 is working\")\n",
    "        \n",
    "#a1 = A()\n",
    "b1 = B() #the object will call the init of class A if we dont have init method in class B\n",
    "#But if we have init method in class B the object will call the init method of class B and To call the init method of class A We need to use the super keyword\n",
    "\n",
    "#When you create object of sub class it will cal init of subclass first\n",
    "#if you have call super then it will first call init of super class then call init of sub class\n",
    "\n",
    "\n",
    "\n"
   ]
  },
  {
   "cell_type": "code",
   "execution_count": 84,
   "metadata": {},
   "outputs": [
    {
     "name": "stdout",
     "output_type": "stream",
     "text": [
      "In A init\n",
      "In C init\n",
      "Feature 1_A is working\n",
      "Feature 2 is working\n"
     ]
    }
   ],
   "source": [
    "#Method Resolution Order(MRO)\n",
    "\n",
    "class A: \n",
    "    \n",
    "    def __init__(self):\n",
    "         print(\"In A init\")\n",
    "        \n",
    "    def feature1(self):\n",
    "        print(\"Feature 1_A is working\")\n",
    "        \n",
    "    def feature2(self):\n",
    "        print(\"Feature 2 is working\")\n",
    "        \n",
    "class B: \n",
    "    \n",
    "    def __init__(self):\n",
    "        print(\"In B init\")\n",
    "    \n",
    "    def feature1(self):\n",
    "        print(\"Feature 1_B is working\")\n",
    "        \n",
    "    def feature4(self):\n",
    "        print(\"Feature 4 is working\")\n",
    "        \n",
    "class C(A,B): \n",
    "    \n",
    "    def __init__(self):\n",
    "        super().__init__() # Class C has two super classes, so here comes the concept of MRO\n",
    "        print(\"In C init\")\n",
    "    \n",
    "    def feature5(self):\n",
    "        print(\"Feature 5 is working\")\n",
    "    \n",
    "    def feat(self):\n",
    "        super().feature2()\n",
    "        \n",
    "    \n",
    "    \n",
    "\n",
    "# Whenever we have this multiple inheritance, it will always starts from left to right i.e. the concept of MRO       \n",
    "c1 = C()\n",
    "c1.feature1()\n",
    "c1.feat()\n",
    "\n",
    "#To represent the super class we use super method\n",
    "        \n"
   ]
  },
  {
   "cell_type": "code",
   "execution_count": 88,
   "metadata": {},
   "outputs": [
    {
     "name": "stdout",
     "output_type": "stream",
     "text": [
      "Spell Check\n",
      "Convention Check\n",
      "Compiling\n",
      "Running\n"
     ]
    }
   ],
   "source": [
    "#Polymorphism in Python \n",
    "#Polymorphism (poly means many and morph means form) that means one thing can take multiple forms\n",
    "#There are 4 ways to implement polymorphism i.e. Duck typing,Operator Overloading,Method Overloading and Method Overriding\n",
    "\n",
    "#Duck Typing in Python\n",
    "\n",
    "class Pycharm:\n",
    "    \n",
    "    def execute(self):\n",
    "        print(\"Compiling\")\n",
    "        print(\"Running\")\n",
    "        \n",
    "        \n",
    "class MyEditor:\n",
    "    \n",
    "    def execute(self):\n",
    "        print(\"Spell Check\")\n",
    "        print(\"Convention Check\")\n",
    "        print(\"Compiling\")\n",
    "        print(\"Running\")\n",
    "        \n",
    "\n",
    "\n",
    "class Laptop:\n",
    "    \n",
    "    def code(self,ide):\n",
    "        ide.execute()\n",
    "        \n",
    "#if there is an object like ide\n",
    "ide = MyEditor()\n",
    "#ide = Pycharm()\n",
    "\n",
    "lap1 = Laptop()\n",
    "lap1.code(ide)\n",
    "\n",
    "#Duck typing is a concept related to dynamic typing, where the type or the class of an object is less important than the methods it defines. \n",
    "#When you use duck typing, you do not check types at all. \n",
    "#Instead, you check for the presence of a given method or attribute."
   ]
  },
  {
   "cell_type": "code",
   "execution_count": 95,
   "metadata": {},
   "outputs": [
    {
     "name": "stdout",
     "output_type": "stream",
     "text": [
      "127\n",
      "s2 wins\n",
      "58 69\n",
      "69 65\n"
     ]
    }
   ],
   "source": [
    "#Operator Overloading\n",
    "\n",
    "class Student:\n",
    "    \n",
    "    def __init__(self,m1,m2):\n",
    "        self.m1 =m1 \n",
    "        self.m2 =m2\n",
    "        \n",
    "    def __add__(self,other):\n",
    "        m1 = self.m1+other.m1\n",
    "        m2 = self.m2+other.m2\n",
    "        s3 = Student(m1,m2)\n",
    "        return s3\n",
    "    \n",
    "    def __gt__(self,other):\n",
    "        r1 = self.m1+self.m2\n",
    "        r2 = other.m1+other.m2\n",
    "        if r1>r2:\n",
    "            return True\n",
    "        else:\n",
    "            return False\n",
    "        \n",
    "    def __str__(self):\n",
    "        return '{} {}'.format(self.m1,self.m2)\n",
    "    \n",
    "s1 = Student(58,69)\n",
    "s2 = Student(69,65)\n",
    "\n",
    "s3 = s1+s2\n",
    "print(s3.m1)\n",
    "\n",
    "if s1>s2:\n",
    "    print(\"s1 wins\")\n",
    "else:\n",
    "    print(\"s2 wins\")\n",
    "    \n",
    "print(s1)\n",
    "print(s2)"
   ]
  },
  {
   "cell_type": "code",
   "execution_count": 99,
   "metadata": {},
   "outputs": [
    {
     "name": "stdout",
     "output_type": "stream",
     "text": [
      "14\n"
     ]
    }
   ],
   "source": [
    "#Method Overloading and Method Overriding\n",
    "\n",
    "#Two method with same name and different parameters or arguments is called as method overloading\n",
    "#Two method with same name and same parameters or arguments is called as method overriding\n",
    "#Method Overloading\n",
    "class Student:\n",
    "    \n",
    "    def __init__(self,m1,m2):\n",
    "        self.m1 =m1 \n",
    "        self.m2 =m2\n",
    "        \n",
    "    def sum(self,a=None,b=None,c=None):\n",
    "        s = 0\n",
    "        if a!=None and b!=None and c!=None:\n",
    "            s = a+b+c\n",
    "        elif a!=None and b!=None:\n",
    "            s=a+b\n",
    "        else:\n",
    "            s=a\n",
    "        \n",
    "        return s\n",
    "    \n",
    "s1 = Student(58,69)\n",
    "\n",
    "print(s1.sum(5,9))\n",
    "\n"
   ]
  },
  {
   "cell_type": "code",
   "execution_count": 104,
   "metadata": {},
   "outputs": [
    {
     "name": "stdout",
     "output_type": "stream",
     "text": [
      "in B show\n"
     ]
    }
   ],
   "source": [
    "#Method Overriding\n",
    "class A:\n",
    "    \n",
    "    def show(self):\n",
    "        print(\"in A show\")\n",
    "        \n",
    "class B(A):\n",
    "    def show(self):\n",
    "        print(\"in B show\")\n",
    "        \n",
    "\n",
    "a1 = B()\n",
    "a1.show()\n",
    "    "
   ]
  },
  {
   "cell_type": "code",
   "execution_count": null,
   "metadata": {},
   "outputs": [],
   "source": []
  }
 ],
 "metadata": {
  "kernelspec": {
   "display_name": "Python 3",
   "language": "python",
   "name": "python3"
  },
  "language_info": {
   "codemirror_mode": {
    "name": "ipython",
    "version": 3
   },
   "file_extension": ".py",
   "mimetype": "text/x-python",
   "name": "python",
   "nbconvert_exporter": "python",
   "pygments_lexer": "ipython3",
   "version": "3.7.0"
  }
 },
 "nbformat": 4,
 "nbformat_minor": 2
}
