{
 "cells": [
  {
   "cell_type": "markdown",
   "metadata": {},
   "source": [
    "# Face Detection using Haar Cascade"
   ]
  },
  {
   "cell_type": "markdown",
   "metadata": {},
   "source": [
    "Haar Cascade is a pretrained classifies which uses a cascade function trained for both positive and negative images."
   ]
  },
  {
   "cell_type": "code",
   "execution_count": 1,
   "metadata": {},
   "outputs": [],
   "source": [
    "import cv2"
   ]
  },
  {
   "cell_type": "code",
   "execution_count": 5,
   "metadata": {},
   "outputs": [],
   "source": [
    "face_cascade = cv2.CascadeClassifier('haarcascade_frontalface_default.xml')"
   ]
  },
  {
   "cell_type": "code",
   "execution_count": 8,
   "metadata": {},
   "outputs": [],
   "source": [
    "# Read the input image\n",
    "img = cv2.imread('test.jpg')"
   ]
  },
  {
   "cell_type": "code",
   "execution_count": 9,
   "metadata": {},
   "outputs": [
    {
     "name": "stdout",
     "output_type": "stream",
     "text": [
      "[[[151 142 132]\n",
      "  [151 142 132]\n",
      "  [152 143 133]\n",
      "  ...\n",
      "  [132 121 113]\n",
      "  [131 120 112]\n",
      "  [131 120 112]]\n",
      "\n",
      " [[151 142 132]\n",
      "  [151 142 132]\n",
      "  [151 142 132]\n",
      "  ...\n",
      "  [132 121 113]\n",
      "  [131 120 112]\n",
      "  [130 119 111]]\n",
      "\n",
      " [[153 144 134]\n",
      "  [153 144 134]\n",
      "  [152 143 133]\n",
      "  ...\n",
      "  [133 122 114]\n",
      "  [132 121 113]\n",
      "  [131 120 112]]\n",
      "\n",
      " ...\n",
      "\n",
      " [[ 13  14  12]\n",
      "  [  9  10   8]\n",
      "  [  9  10   8]\n",
      "  ...\n",
      "  [ 20  18  18]\n",
      "  [ 19  17  17]\n",
      "  [ 16  14  14]]\n",
      "\n",
      " [[ 16  14  14]\n",
      "  [ 11  11  11]\n",
      "  [  9   9   9]\n",
      "  ...\n",
      "  [ 21  19  19]\n",
      "  [ 20  18  18]\n",
      "  [ 16  14  14]]\n",
      "\n",
      " [[ 15  13  13]\n",
      "  [ 12  12  12]\n",
      "  [ 10  10  10]\n",
      "  ...\n",
      "  [ 22  20  20]\n",
      "  [ 21  19  19]\n",
      "  [ 17  15  15]]]\n"
     ]
    }
   ],
   "source": [
    "print(img)"
   ]
  },
  {
   "cell_type": "code",
   "execution_count": 10,
   "metadata": {},
   "outputs": [
    {
     "data": {
      "text/plain": [
       "113"
      ]
     },
     "execution_count": 10,
     "metadata": {},
     "output_type": "execute_result"
    }
   ],
   "source": [
    "gray = cv2.cvtColor(img, cv2.COLOR_BGR2GRAY)\n",
    "faces = face_cascade.detectMultiScale(gray, 1.1, 4)\n",
    "\n",
    "# 1.1 is scale factor - It tells us that how much the image size is reduced at each image scale.\n",
    "# 4 is minNeighbours - Parameter specifying how many neighbours each candidate rectangle should have to retain it.\n",
    "    \n",
    "    \n",
    "for (x, y , w ,h) in faces:\n",
    "    cv2.rectangle(img, (x,y), (x+w, y+h), (255, 0 , 0), 3)\n",
    "\n",
    "# Display the output\n",
    "cv2.imshow('img', img)\n",
    "cv2.waitKey(0)\n",
    "    "
   ]
  },
  {
   "cell_type": "code",
   "execution_count": 11,
   "metadata": {},
   "outputs": [],
   "source": [
    "cv2.destroyAllWindows()"
   ]
  },
  {
   "cell_type": "code",
   "execution_count": null,
   "metadata": {},
   "outputs": [],
   "source": []
  }
 ],
 "metadata": {
  "kernelspec": {
   "display_name": "Python 3",
   "language": "python",
   "name": "python3"
  },
  "language_info": {
   "codemirror_mode": {
    "name": "ipython",
    "version": 3
   },
   "file_extension": ".py",
   "mimetype": "text/x-python",
   "name": "python",
   "nbconvert_exporter": "python",
   "pygments_lexer": "ipython3",
   "version": "3.7.0"
  }
 },
 "nbformat": 4,
 "nbformat_minor": 2
}
