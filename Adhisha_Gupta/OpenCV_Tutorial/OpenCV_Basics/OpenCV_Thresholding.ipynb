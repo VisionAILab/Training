{
 "cells": [
  {
   "cell_type": "markdown",
   "metadata": {},
   "source": [
    "# OpenCV Thresholding"
   ]
  },
  {
   "cell_type": "markdown",
   "metadata": {},
   "source": [
    "The process of thresholding involves comparing each pixel of an image with a predefined threshold value. "
   ]
  },
  {
   "cell_type": "code",
   "execution_count": 1,
   "metadata": {},
   "outputs": [],
   "source": [
    "import cv2\n",
    "import numpy as np"
   ]
  },
  {
   "cell_type": "code",
   "execution_count": 2,
   "metadata": {},
   "outputs": [],
   "source": [
    "#Comparing pixels is divided into two groups.\n",
    "\n",
    "#pixels having intensity value lesser then that threshold value.\n",
    "#pixels having intensity value greater then that threshold value.\n",
    "\n",
    "img = cv2.imread('image.png',0)\n",
    "_, th1 = cv2.threshold(img, 50, 255, cv2.THRESH_BINARY) #give binary result either 0 or 1\n",
    "_, th2 = cv2.threshold(img, 200, 255, cv2.THRESH_BINARY_INV) # inverse of binary\n",
    "_, th3 = cv2.threshold(img, 127, 255, cv2.THRESH_TRUNC) #same as input image till 127(input threshold) and after 127 it will be of the same tone as that of 127\n",
    "_, th4 = cv2.threshold(img, 127, 255, cv2.THRESH_TOZERO) #Until 127 the pixel becomes 0 so it will be black and after 127 it will be same as input image\n",
    "_, th5 = cv2.threshold(img, 127, 255, cv2.THRESH_TOZERO_INV) #Until 127 the image will be same as input image and after 127 all the pixels will become zero."
   ]
  },
  {
   "cell_type": "code",
   "execution_count": 3,
   "metadata": {},
   "outputs": [],
   "source": [
    "cv2.imshow(\"Image\", img)\n",
    "cv2.imshow(\"th1\", th1)\n",
    "cv2.imshow(\"th2\", th2)\n",
    "cv2.imshow(\"th3\", th3)\n",
    "cv2.imshow(\"th4\", th4)\n",
    "cv2.imshow(\"th5\", th5)"
   ]
  },
  {
   "cell_type": "code",
   "execution_count": null,
   "metadata": {},
   "outputs": [],
   "source": []
  }
 ],
 "metadata": {
  "kernelspec": {
   "display_name": "Python 3",
   "language": "python",
   "name": "python3"
  },
  "language_info": {
   "codemirror_mode": {
    "name": "ipython",
    "version": 3
   },
   "file_extension": ".py",
   "mimetype": "text/x-python",
   "name": "python",
   "nbconvert_exporter": "python",
   "pygments_lexer": "ipython3",
   "version": "3.7.0"
  }
 },
 "nbformat": 4,
 "nbformat_minor": 2
}
