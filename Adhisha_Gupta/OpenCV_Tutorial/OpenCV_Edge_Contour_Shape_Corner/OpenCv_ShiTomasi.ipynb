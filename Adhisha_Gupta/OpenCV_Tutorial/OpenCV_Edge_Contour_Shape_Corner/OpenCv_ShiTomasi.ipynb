{
 "cells": [
  {
   "cell_type": "markdown",
   "metadata": {},
   "source": [
    "It is similar to Harris corner apart from the way the R value is calculated.\n",
    "\n",
    "It gives us better results. Also using this method we can find top n corners which means we can provide the no. opf corners we want and this might be useful in cases where we dont want to detect all the corners inside an image."
   ]
  },
  {
   "cell_type": "code",
   "execution_count": null,
   "metadata": {},
   "outputs": [],
   "source": [
    "import numpy as np\n",
    "import cv2 as cv"
   ]
  },
  {
   "cell_type": "code",
   "execution_count": null,
   "metadata": {},
   "outputs": [],
   "source": [
    "img = cv.imread('pic1.png')\n",
    "\n",
    "gray = cv.cvtColor(img, cv.COLOR_BGR2GRAY)\n",
    "\n",
    "corners = cv.goodFeaturesToTrack(gray, 100, 0.01, 10) #100 is the no. of corners we want to detect. \n",
    "#0.01 is the quality level. So this is the parameter characterizing the minimal expected quality of the image corner \n",
    "#10 is the min. distance which is the minimun possible eucladian distance b/w the returned corners.\n",
    "\n",
    "corners = np.int0(corners) #here we convert those corners into the integer values\n",
    "\n",
    "for i in corners:\n",
    "    x, y = i.ravel()\n",
    "    cv.circle(img, (x, y), 3, [255, 255, 0], -1) #3 is the radius #[255, 255, 0] is the color #-1 is the thickness (-1 means we want to fill the color inside the circle)\n",
    "\n",
    "cv.imshow('Shi-Tomasi Corner Detector', img)\n",
    "\n",
    "if cv.waitKey(0) & 0xff == 27:\n",
    "    cv.destroyAllWindows()"
   ]
  }
 ],
 "metadata": {
  "kernelspec": {
   "display_name": "Python 3",
   "language": "python",
   "name": "python3"
  },
  "language_info": {
   "codemirror_mode": {
    "name": "ipython",
    "version": 3
   },
   "file_extension": ".py",
   "mimetype": "text/x-python",
   "name": "python",
   "nbconvert_exporter": "python",
   "pygments_lexer": "ipython3",
   "version": "3.7.4"
  }
 },
 "nbformat": 4,
 "nbformat_minor": 2
}
