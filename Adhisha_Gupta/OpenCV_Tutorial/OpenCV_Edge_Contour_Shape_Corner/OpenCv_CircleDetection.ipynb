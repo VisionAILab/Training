{
 "cells": [
  {
   "cell_type": "markdown",
   "metadata": {},
   "source": [
    "To detect a circle in an image we use \n",
    "\n",
    "(x - xcenter)^2 + (y - ycenter)^2 = r^2 \n",
    "\n",
    "where (x_center and y_center) is the center of the circle, and r is the radius of the circle."
   ]
  },
  {
   "cell_type": "code",
   "execution_count": 1,
   "metadata": {},
   "outputs": [],
   "source": [
    "import numpy as np\n",
    "import cv2 as cv"
   ]
  },
  {
   "cell_type": "code",
   "execution_count": 2,
   "metadata": {},
   "outputs": [],
   "source": [
    "img = cv.imread('Smarties.jpg')\n",
    "output = img.copy()\n",
    "\n",
    "gray = cv.cvtColor(img, cv.COLOR_BGR2GRAY)\n",
    "gray = cv.medianBlur(gray, 5)\n",
    "\n",
    "circles = cv.HoughCircles(gray, cv.HOUGH_GRADIENT, 1, 20,\n",
    "                          param1=50, param2=30, minRadius=0, maxRadius=0)\n",
    "\n",
    "# cv.HOUGH_GRADIENT - method \n",
    "# 1 is dp - Inverse ratio of the accumulator resolution to the image resolution \n",
    "# 20 is minDist - Min. distance b/w the centre of the detected circles. \n",
    "# param1=50 - First Method specific parameter. In case of Hough_Gradient, it is the higher threshold of the two passed to the Canny edge detector (the lower one is twice smaller).\n",
    "# param2=30 - Second Method specific parameter. In case of Hough_Gradient, it is the accumulator threshold for the circle centers at the detection stage.\n",
    "# maxRadius=0 - Max. Circle radius. If <= 0, uses the max. image dimension. If < 0, returns centers without finding the radius.\n",
    "# minRadius=0 - Min. circle radius. \n",
    "\n",
    "detected_circles = np.uint16(np.around(circles)) # This will convert detected circles into integers.\n",
    "\n",
    "\n",
    "for (x, y ,r) in detected_circles[0, :]:\n",
    "    cv.circle(output, (x, y), r, (0, 0, 0), 3)\n",
    "    cv.circle(output, (x, y), 2, (0, 255, 255), 3)\n",
    "\n",
    "\n",
    "cv.imshow('output',output)\n",
    "cv.waitKey(0)\n",
    "cv.destroyAllWindows()"
   ]
  },
  {
   "cell_type": "code",
   "execution_count": null,
   "metadata": {},
   "outputs": [],
   "source": []
  }
 ],
 "metadata": {
  "kernelspec": {
   "display_name": "Python 3",
   "language": "python",
   "name": "python3"
  },
  "language_info": {
   "codemirror_mode": {
    "name": "ipython",
    "version": 3
   },
   "file_extension": ".py",
   "mimetype": "text/x-python",
   "name": "python",
   "nbconvert_exporter": "python",
   "pygments_lexer": "ipython3",
   "version": "3.7.0"
  }
 },
 "nbformat": 4,
 "nbformat_minor": 2
}
