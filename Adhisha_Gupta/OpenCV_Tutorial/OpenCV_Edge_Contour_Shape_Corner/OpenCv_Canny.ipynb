{
 "cells": [
  {
   "cell_type": "markdown",
   "metadata": {},
   "source": [
    "Canny edge detector is an edge detection operator that uses a multi-stage algorithm to detect a wide range of edges in images. \n",
    "\n"
   ]
  },
  {
   "cell_type": "markdown",
   "metadata": {},
   "source": [
    "The canny edge detection algorithm is composed of 5 steps:\n",
    "1. Noise Reduction\n",
    "2. Gradient Calcculation\n",
    "3. Non-maximum suppression\n",
    "4. Double Threshold\n",
    "5. Edge Tracking by Hysteresis\n"
   ]
  },
  {
   "cell_type": "code",
   "execution_count": null,
   "metadata": {},
   "outputs": [],
   "source": [
    "import cv2\n",
    "import numpy as np\n",
    "from matplotlib import pyplot as plt"
   ]
  },
  {
   "cell_type": "code",
   "execution_count": null,
   "metadata": {},
   "outputs": [],
   "source": [
    "img = cv2.imread(\"lena.jpg\")\n",
    "img = cv2.cvtColor(img, cv2.COLOR_BGR2RGB)\n",
    "canny = cv2.Canny(img, 100, 200) #100 and 200 are threshold values\n",
    "\n",
    "titles = ['image', 'canny']\n",
    "images = [img, canny]\n",
    "for i in range(2):\n",
    "    plt.subplot(1, 2, i+1), plt.imshow(images[i], 'gray')\n",
    "    plt.title(titles[i])\n",
    "    plt.xticks([]),plt.yticks([])\n",
    "\n",
    "plt.show()"
   ]
  }
 ],
 "metadata": {
  "kernelspec": {
   "display_name": "Python 3",
   "language": "python",
   "name": "python3"
  },
  "language_info": {
   "codemirror_mode": {
    "name": "ipython",
    "version": 3
   },
   "file_extension": ".py",
   "mimetype": "text/x-python",
   "name": "python",
   "nbconvert_exporter": "python",
   "pygments_lexer": "ipython3",
   "version": "3.7.4"
  }
 },
 "nbformat": 4,
 "nbformat_minor": 2
}
