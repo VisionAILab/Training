{
 "cells": [
  {
   "cell_type": "code",
   "execution_count": null,
   "metadata": {},
   "outputs": [],
   "source": [
    "#Smoothing or Blurring is used for removing noise from images.\n",
    "#Homogeneous Filter is the most simple filter, each output pixel is the mean of its kernel neighbours.\n",
    "#In homogeneous all pixel contribute same amount of weight thats why it is called Homogeneous.\n",
    "#In image processing, a kernel, convolutional matrix, or small matrix. It is used for blurring,sharpning, embossing, edge detection and more.\n",
    "\n",
    "import cv2\n",
    "import numpy as np\n",
    "from matplotlib import pyplot as plt"
   ]
  },
  {
   "cell_type": "code",
   "execution_count": null,
   "metadata": {},
   "outputs": [],
   "source": [
    "img = cv2.imread('lena.jpg')\n",
    "img = cv2.cvtColor(img, cv2.COLOR_BGR2RGB)\n",
    "\n",
    "kernel = np.ones((5, 5), np.float32)/25\n",
    "dst = cv2.filter2D(img, -1, kernel)\n",
    "\n",
    "#Images can also be filtered with various LPF (Low Pass Filter) and HPF.\n",
    "#LPF - Helps in removing noises and blurring the images.\n",
    "#HPF - Helps in finding edges in the images.\n",
    "\n",
    "blur = cv2.blur(img, (5, 5))\n",
    "\n",
    "#Gasussian Filter is nothing but using different-weight-kernel, in both x and y direction.\n",
    "#Center part of kernel will have higher weight then neighbours.\n",
    "#It is specifically designed to remove the high frequency noise from the image.\n",
    "\n",
    "gblur = cv2.GaussianBlur(img, (5, 5), 0)\n",
    "\n",
    "# Median filter is something that replaces each pixel's value with the median of its neighbouring pixels. \n",
    "# This method is great when dealing with\"Salt and Pepper noise\"\n",
    "\n",
    "median = cv2.medianBlur(img, 5) # 5 is the kernel size and it cannot be 1 \n",
    "\n",
    "#Images in which we need to preserve the borders then we use bilateral filter \n",
    "\n",
    "bilateralFilter = cv2.bilateralFilter(img, 9, 75, 75) # 9 is the daimeter of each pixel neighbourhood\n",
    "# 75 is the sigma color and other 75 is the sigma space\n",
    "\n",
    "titles = ['image', '2D Convolution', 'blur', 'GaussianBlur', 'median', 'bilateralFilter']\n",
    "images = [img, dst, blur, gblur, median, bilateralFilter]\n",
    "\n",
    "for i in range(6):\n",
    "    plt.subplot(2, 3, i+1), plt.imshow(images[i], 'gray')\n",
    "    plt.title(titles[i])\n",
    "    plt.xticks([]),plt.yticks([])\n",
    "\n",
    "plt.show()"
   ]
  },
  {
   "cell_type": "code",
   "execution_count": null,
   "metadata": {},
   "outputs": [],
   "source": []
  }
 ],
 "metadata": {
  "kernelspec": {
   "display_name": "Python 3",
   "language": "python",
   "name": "python3"
  },
  "language_info": {
   "codemirror_mode": {
    "name": "ipython",
    "version": 3
   },
   "file_extension": ".py",
   "mimetype": "text/x-python",
   "name": "python",
   "nbconvert_exporter": "python",
   "pygments_lexer": "ipython3",
   "version": "3.7.0"
  }
 },
 "nbformat": 4,
 "nbformat_minor": 2
}
