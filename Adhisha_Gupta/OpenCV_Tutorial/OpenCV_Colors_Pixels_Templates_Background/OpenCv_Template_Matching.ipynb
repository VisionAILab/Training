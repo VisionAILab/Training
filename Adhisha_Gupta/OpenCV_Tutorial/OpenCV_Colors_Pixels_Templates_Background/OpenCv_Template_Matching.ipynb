{
 "cells": [
  {
   "cell_type": "code",
   "execution_count": null,
   "metadata": {},
   "outputs": [],
   "source": [
    "# Template Matching is the method of searching and finding the location of a templete image inside a larger image.\n",
    "\n",
    "import cv2\n",
    "import numpy as np\n",
    "img = cv2.imread(\"messi5.jpg\")"
   ]
  },
  {
   "cell_type": "code",
   "execution_count": null,
   "metadata": {},
   "outputs": [],
   "source": [
    "grey_img = cv2.cvtColor(img, cv2.COLOR_BGR2GRAY)\n",
    "template = cv2.imread(\"messi_face.jpg\", 0)\n",
    "w, h = template.shape[::-1] #To get the width and height of the template\n",
    "\n",
    "res = cv2.matchTemplate(grey_img, template, cv2.TM_CCORR_NORMED )\n",
    "print(res) #In this result the no. closest to 1 will be our brightest point....it will be the top left corner of the template which matches with the orignal image.\n",
    "\n",
    "threshold = 0.99;\n",
    "\n",
    "loc = np.where(res >= threshold) #This is used to find out the brightest point in the matrix.\n",
    "print(loc)\n",
    "\n",
    "for pt in zip(*loc[::-1]): #To draw the rectangle over the matched template in our original image.  \n",
    "    cv2.rectangle(img, pt, (pt[0] + w, pt[1] + h), (0, 0, 255), 2) #(pt[0] + w, pt[1] + h) this is used to get the bottom right corner of the template. \n",
    "\n",
    "cv2.imshow(\"img\", img)\n",
    "cv2.waitKey(0)\n",
    "cv2.destroyAllWindows()"
   ]
  }
 ],
 "metadata": {
  "kernelspec": {
   "display_name": "Python 3",
   "language": "python",
   "name": "python3"
  },
  "language_info": {
   "codemirror_mode": {
    "name": "ipython",
    "version": 3
   },
   "file_extension": ".py",
   "mimetype": "text/x-python",
   "name": "python",
   "nbconvert_exporter": "python",
   "pygments_lexer": "ipython3",
   "version": "3.7.0"
  }
 },
 "nbformat": 4,
 "nbformat_minor": 2
}
