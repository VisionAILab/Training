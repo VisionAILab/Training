{
 "cells": [
  {
   "cell_type": "code",
   "execution_count": 3,
   "metadata": {},
   "outputs": [],
   "source": [
    "# Template Matching is the method of searching and finding the location of a templete image inside a larger image.\n",
    "\n",
    "import cv2\n",
    "import numpy as np\n",
    "img = cv2.imread(\"messi.jpg\")"
   ]
  },
  {
   "cell_type": "code",
   "execution_count": 4,
   "metadata": {},
   "outputs": [
    {
     "name": "stdout",
     "output_type": "stream",
     "text": [
      "[[0.59987295 0.60598916 0.61407864 ... 0.7978744  0.799312   0.80096716]\n",
      " [0.6084357  0.6142141  0.62179726 ... 0.7951078  0.7958125  0.79683936]\n",
      " [0.6176637  0.6229685  0.6302487  ... 0.7923716  0.7922509  0.79245806]\n",
      " ...\n",
      " [0.85123634 0.8511445  0.85103637 ... 0.83852106 0.8381775  0.8385832 ]\n",
      " [0.8519455  0.8523054  0.8524011  ... 0.8343016  0.8343028  0.8341832 ]\n",
      " [0.85322446 0.8528339  0.8529277  ... 0.83101434 0.8316856  0.83208305]]\n",
      "(array([85], dtype=int64), array([220], dtype=int64))\n"
     ]
    }
   ],
   "source": [
    "grey_img = cv2.cvtColor(img, cv2.COLOR_BGR2GRAY)\n",
    "template = cv2.imread(\"messi_face.jpg\", 0)\n",
    "w, h = template.shape[::-1] #To get the width and height of the template\n",
    "\n",
    "res = cv2.matchTemplate(grey_img, template, cv2.TM_CCORR_NORMED )\n",
    "print(res) #In this result the no. closest to 1 will be our brightest point....it will be the top left corner of the template which matches with the orignal image.\n",
    "\n",
    "threshold = 0.99;\n",
    "\n",
    "loc = np.where(res >= threshold) #This is used to find out the brightest point in the matrix.\n",
    "print(loc)\n",
    "\n",
    "for pt in zip(*loc[::-1]): #To draw the rectangle over the matched template in our original image.  \n",
    "    cv2.rectangle(img, pt, (pt[0] + w, pt[1] + h), (0, 0, 255), 2) #(pt[0] + w, pt[1] + h) this is used to get the bottom right corner of the template. \n",
    "\n",
    "cv2.imshow(\"img\", img)\n",
    "cv2.waitKey(0)\n",
    "cv2.destroyAllWindows()"
   ]
  },
  {
   "cell_type": "code",
   "execution_count": null,
   "metadata": {},
   "outputs": [],
   "source": []
  }
 ],
 "metadata": {
  "kernelspec": {
   "display_name": "Python 3",
   "language": "python",
   "name": "python3"
  },
  "language_info": {
   "codemirror_mode": {
    "name": "ipython",
    "version": 3
   },
   "file_extension": ".py",
   "mimetype": "text/x-python",
   "name": "python",
   "nbconvert_exporter": "python",
   "pygments_lexer": "ipython3",
   "version": "3.7.0"
  }
 },
 "nbformat": 4,
 "nbformat_minor": 2
}
