{
 "cells": [
  {
   "cell_type": "markdown",
   "metadata": {},
   "source": [
    "# Image Pyramid"
   ]
  },
  {
   "cell_type": "code",
   "execution_count": null,
   "metadata": {},
   "outputs": [],
   "source": [
    "#Image Pyramids are used to create the images of different resolutions \n",
    "#Pyramid, or pyramid representation is a type of multi- scale signal representation in which a signal or an image is subject to repeated smoothing and sub-sampling\n",
    "# Gaussian and Laplacian pyramid helps us to blend the images and the econstruction of the images.\n",
    "\n",
    "import cv2\n",
    "import numpy as np\n",
    "img = cv2.imread(\"lena.jpg\")\n",
    "#lr = cv2.pyrDown(img) # pyrDown method reduce the resolution of an image\n",
    "#hr = cv2.pyrUp(img) #pyrUp method is used to increase the resolution......the image enlarged will be blur becoz it looses some information.\n",
    "layer = img.copy()\n",
    "gaussian_pyramid_list = [layer]"
   ]
  },
  {
   "cell_type": "code",
   "execution_count": null,
   "metadata": {},
   "outputs": [],
   "source": [
    "for i in range(6):\n",
    "    layer = cv2.pyrDown(layer)\n",
    "    gaussian_pyramid_list.append(layer)\n",
    "    #cv2.imshow(str(i), layer)\n",
    "\n",
    "#A level in Laplacian Pyramid is formed by the difference between that level in Gaussian Pyramid and expanded version of its upper level in Gaussian Pyramid.\n",
    "\n",
    "layer = gaussian_pyramid_list[5]\n",
    "cv2.imshow('upper level Gaussian Pyramid', layer)\n",
    "laplacian_pyramid_list = [layer]\n",
    "\n",
    "for i in range(5, 0, -1): #5 is the max no. of images....0 is the min no. and -1 is the count from 5....so it will be like 5-1 = 4, then 4-1 = 3....and so on\n",
    "    gaussian_extended = cv2.pyrUp(gaussian_pyramid_list[i]) # to create the extended version of its upper level in Gaussian Pyramid.\n",
    "    laplacian = cv2.subtract(gaussian_pyramid_list[i-1], gaussian_extended) #cv2.subtract is used becoz we want to find the difference......as mentioned in the defination of Laplacian pyramid.\n",
    "    cv2.imshow(str(i), laplacian)\n",
    "\n",
    "cv2.imshow(\"Original image\", img)\n",
    "cv2.waitKey(0)\n",
    "cv2.destroyAllWindows()"
   ]
  },
  {
   "cell_type": "code",
   "execution_count": null,
   "metadata": {},
   "outputs": [],
   "source": []
  }
 ],
 "metadata": {
  "kernelspec": {
   "display_name": "Python 3",
   "language": "python",
   "name": "python3"
  },
  "language_info": {
   "codemirror_mode": {
    "name": "ipython",
    "version": 3
   },
   "file_extension": ".py",
   "mimetype": "text/x-python",
   "name": "python",
   "nbconvert_exporter": "python",
   "pygments_lexer": "ipython3",
   "version": "3.7.0"
  }
 },
 "nbformat": 4,
 "nbformat_minor": 2
}
