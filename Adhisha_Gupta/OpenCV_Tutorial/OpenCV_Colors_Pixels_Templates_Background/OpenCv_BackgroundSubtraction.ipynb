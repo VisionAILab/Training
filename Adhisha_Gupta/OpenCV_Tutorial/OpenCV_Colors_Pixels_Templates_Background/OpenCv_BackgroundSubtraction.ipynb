{
 "cells": [
  {
   "cell_type": "markdown",
   "metadata": {},
   "source": [
    "# Background Substraction"
   ]
  },
  {
   "cell_type": "markdown",
   "metadata": {},
   "source": [
    "Background Subtraction is used to generate the foreground mask which is also known as the binary image containing the pixels belonging to the moving object of a scene when these images are captured using a static camera.\n"
   ]
  },
  {
   "cell_type": "code",
   "execution_count": null,
   "metadata": {},
   "outputs": [],
   "source": [
    "import numpy as np\n",
    "import cv2"
   ]
  },
  {
   "cell_type": "code",
   "execution_count": null,
   "metadata": {},
   "outputs": [],
   "source": [
    "#pip install opencv-contrib-python"
   ]
  },
  {
   "cell_type": "code",
   "execution_count": null,
   "metadata": {},
   "outputs": [],
   "source": [
    "img = cv2.imread(\"test.jpg\")\n",
    "\n",
    "#cap = cv.VideoCapture('vtest.avi')\n",
    "#kernel = cv.getStructuringElement(cv.MORPH_ELLIPSE, (3,3))\n",
    "\n",
    "\n",
    "fgbg = cv2.bgsegm.createBackgroundSubtractorMOG() # This method is a gaussain mixture based  background and foreground segmentation algorithm.\n",
    "\n",
    "#fgbg = cv.bgsegm.BackgroundSubtractorGMG() #This algorithm combines statistical background image estimation and pre-pixel biasian segmentation.\n",
    "\n",
    "#fgbg = cv.createBackgroundSubtractorMOG2(detectShadows=True) #This method also detects the shadows of any moving object in the frame. \n",
    "\n",
    "#fgbg = cv.createBackgroundSubtractorKNN(detectShadows=True)\n",
    "\n",
    "\n",
    "\n",
    "fgmask = fgbg.apply(frame) #this is to create a foreground mask. \n",
    "#fgmask = cv.morphologyEx(fgmask, cv.MORPH_OPEN, kernel) # This is used for GMG method  \n",
    "\n",
    "cv2.imshow('Image', img)\n",
    "cv2.imshow('FG MASK Image', fgmask)\n",
    "\n",
    "cv2.waitKey(0)\n",
    "    \n",
    "\n",
    "cv2.destroyAllWindows()"
   ]
  },
  {
   "cell_type": "code",
   "execution_count": null,
   "metadata": {},
   "outputs": [],
   "source": []
  },
  {
   "cell_type": "code",
   "execution_count": null,
   "metadata": {},
   "outputs": [],
   "source": []
  }
 ],
 "metadata": {
  "kernelspec": {
   "display_name": "Python 3",
   "language": "python",
   "name": "python3"
  },
  "language_info": {
   "codemirror_mode": {
    "name": "ipython",
    "version": 3
   },
   "file_extension": ".py",
   "mimetype": "text/x-python",
   "name": "python",
   "nbconvert_exporter": "python",
   "pygments_lexer": "ipython3",
   "version": "3.7.0"
  }
 },
 "nbformat": 4,
 "nbformat_minor": 2
}
