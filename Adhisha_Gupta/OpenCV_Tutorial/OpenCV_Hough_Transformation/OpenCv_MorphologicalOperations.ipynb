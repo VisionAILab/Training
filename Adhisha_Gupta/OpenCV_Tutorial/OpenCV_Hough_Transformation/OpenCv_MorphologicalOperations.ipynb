{
 "cells": [
  {
   "cell_type": "markdown",
   "metadata": {},
   "source": [
    "Morphological Transformations are some simple operations based on the image shape. They are normally performed on a binary image. A kernel is required to tell you how to change the value of any given pixel by combining it with different amounts of the neighbouring pixels."
   ]
  },
  {
   "cell_type": "code",
   "execution_count": 4,
   "metadata": {},
   "outputs": [],
   "source": [
    "import cv2\n",
    "import numpy as np\n",
    "from matplotlib import pyplot as plt"
   ]
  },
  {
   "cell_type": "code",
   "execution_count": 5,
   "metadata": {},
   "outputs": [
    {
     "ename": "error",
     "evalue": "OpenCV(4.4.0) C:\\Users\\appveyor\\AppData\\Local\\Temp\\1\\pip-req-build-3367n31i\\opencv\\modules\\imgproc\\src\\morph.dispatch.cpp:1022: error: (-215:Assertion failed) !src.empty() in function 'cv::dilate'\n",
     "output_type": "error",
     "traceback": [
      "\u001b[1;31m---------------------------------------------------------------------------\u001b[0m",
      "\u001b[1;31merror\u001b[0m                                     Traceback (most recent call last)",
      "\u001b[1;32m<ipython-input-5-2443fb3c504c>\u001b[0m in \u001b[0;36m<module>\u001b[1;34m\u001b[0m\n\u001b[0;32m      4\u001b[0m \u001b[0mkernal\u001b[0m \u001b[1;33m=\u001b[0m \u001b[0mnp\u001b[0m\u001b[1;33m.\u001b[0m\u001b[0mones\u001b[0m\u001b[1;33m(\u001b[0m\u001b[1;33m(\u001b[0m\u001b[1;36m5\u001b[0m\u001b[1;33m,\u001b[0m\u001b[1;36m5\u001b[0m\u001b[1;33m)\u001b[0m\u001b[1;33m,\u001b[0m \u001b[0mnp\u001b[0m\u001b[1;33m.\u001b[0m\u001b[0muint8\u001b[0m\u001b[1;33m)\u001b[0m \u001b[1;31m#to create a mask structure (rectangle shape in this case)  #np.ones will create a white mask of (5,5) size\u001b[0m\u001b[1;33m\u001b[0m\u001b[1;33m\u001b[0m\u001b[0m\n\u001b[0;32m      5\u001b[0m \u001b[1;33m\u001b[0m\u001b[0m\n\u001b[1;32m----> 6\u001b[1;33m \u001b[0mdilation\u001b[0m \u001b[1;33m=\u001b[0m \u001b[0mcv2\u001b[0m\u001b[1;33m.\u001b[0m\u001b[0mdilate\u001b[0m\u001b[1;33m(\u001b[0m\u001b[0mmask\u001b[0m\u001b[1;33m,\u001b[0m \u001b[0mkernal\u001b[0m\u001b[1;33m,\u001b[0m \u001b[0miterations\u001b[0m\u001b[1;33m=\u001b[0m\u001b[1;36m2\u001b[0m\u001b[1;33m)\u001b[0m \u001b[1;31m#Used to remove the black dots\u001b[0m\u001b[1;33m\u001b[0m\u001b[1;33m\u001b[0m\u001b[0m\n\u001b[0m\u001b[0;32m      7\u001b[0m \u001b[1;33m\u001b[0m\u001b[0m\n\u001b[0;32m      8\u001b[0m \u001b[0merosion\u001b[0m \u001b[1;33m=\u001b[0m \u001b[0mcv2\u001b[0m\u001b[1;33m.\u001b[0m\u001b[0merode\u001b[0m\u001b[1;33m(\u001b[0m\u001b[0mmask\u001b[0m\u001b[1;33m,\u001b[0m \u001b[0mkernal\u001b[0m\u001b[1;33m,\u001b[0m \u001b[0miterations\u001b[0m\u001b[1;33m=\u001b[0m\u001b[1;36m1\u001b[0m\u001b[1;33m)\u001b[0m\u001b[1;33m\u001b[0m\u001b[1;33m\u001b[0m\u001b[0m\n",
      "\u001b[1;31merror\u001b[0m: OpenCV(4.4.0) C:\\Users\\appveyor\\AppData\\Local\\Temp\\1\\pip-req-build-3367n31i\\opencv\\modules\\imgproc\\src\\morph.dispatch.cpp:1022: error: (-215:Assertion failed) !src.empty() in function 'cv::dilate'\n"
     ]
    }
   ],
   "source": [
    "img = cv2.imread('smarties.png', cv2.IMREAD_GRAYSCALE)\n",
    "_, mask = cv2.threshold(img, 220, 255, cv2.THRESH_BINARY_INV)\n",
    "\n",
    "kernal = np.ones((5,5), np.uint8) # To create a mask structure (rectangle shape in this case)  #np.ones will create a white mask of (5,5) size \n",
    "\n",
    "dilation = cv2.dilate(mask, kernal, iterations=2) # Used to remove the black dots\n",
    "\n",
    "erosion = cv2.erode(mask, kernal, iterations=1) \n",
    "\n",
    "opening = cv2.morphologyEx(mask, cv2.MORPH_OPEN, kernal) # In this method first erosion is performed and then dilation.\n",
    "\n",
    "closing = cv2.morphologyEx(mask, cv2.MORPH_CLOSE, kernal) #In this method first dilation is performed and then erosion. \n",
    "\n",
    "mg = cv2.morphologyEx(mask, cv2.MORPH_GRADIENT, kernal) # morphological gradient   #It is the difference b/w dialation and erosion\n",
    "th = cv2.morphologyEx(mask, cv2.MORPH_TOPHAT, kernal) # top hat    # It is the difference b/w the image and the opening of an image.\n",
    "\n",
    "titles = ['image', 'mask', 'dilation', 'erosion', 'opening', 'closing', 'mg', 'th']\n",
    "images = [img, mask, dilation, erosion, opening, closing, mg, th]\n",
    "\n",
    "for i in range(8):\n",
    "    plt.subplot(2, 4, i+1), plt.imshow(images[i], 'gray')\n",
    "    plt.title(titles[i])\n",
    "    plt.xticks([]),plt.yticks([])\n",
    "\n",
    "plt.show()"
   ]
  },
  {
   "cell_type": "code",
   "execution_count": null,
   "metadata": {},
   "outputs": [],
   "source": []
  }
 ],
 "metadata": {
  "kernelspec": {
   "display_name": "Python 3",
   "language": "python",
   "name": "python3"
  },
  "language_info": {
   "codemirror_mode": {
    "name": "ipython",
    "version": 3
   },
   "file_extension": ".py",
   "mimetype": "text/x-python",
   "name": "python",
   "nbconvert_exporter": "python",
   "pygments_lexer": "ipython3",
   "version": "3.7.4"
  }
 },
 "nbformat": 4,
 "nbformat_minor": 2
}
