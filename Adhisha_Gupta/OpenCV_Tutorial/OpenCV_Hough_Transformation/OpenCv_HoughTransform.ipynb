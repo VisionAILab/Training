{
 "cells": [
  {
   "cell_type": "markdown",
   "metadata": {},
   "source": [
    "HOUGH Transform is a popular techinque to detect any shape, if you can represent that shape in a mathematical form. It can detect the shape even if it is broken or distorted a little bit. "
   ]
  },
  {
   "cell_type": "markdown",
   "metadata": {},
   "source": [
    "A Line in the image space can be expressed with two variables. For ex :- \n",
    "\n",
    "1. In the Cartesian coordinate system     y = mx+c\n",
    "2. In the Polar Coordinate system   xcos + ysin = r\n",
    "\n",
    "Using Hough we can represent a line as a single point in mc space (Hough space) where m is on x axis and c is on y axis. But it is not able to represent the vertical line so we use polar coordinate system which represent in r and theta space.\n"
   ]
  },
  {
   "cell_type": "markdown",
   "metadata": {},
   "source": [
    "Hough Transformation Algorithm requires these four steps:-\n",
    "\n",
    "1. Edge detection,e.g. using the canny edge detector. \n",
    "2. Mapping of edge points to the Hough space and storage in an accumulator.\n",
    "3. Interception of the aaccumulator to yeild lines of infinite length. The interception is done by thresholding and possibly other contraints. \n",
    "4. Conversion of infinite lines to finite lines. "
   ]
  },
  {
   "cell_type": "code",
   "execution_count": null,
   "metadata": {},
   "outputs": [],
   "source": []
  }
 ],
 "metadata": {
  "kernelspec": {
   "display_name": "Python 3",
   "language": "python",
   "name": "python3"
  },
  "language_info": {
   "codemirror_mode": {
    "name": "ipython",
    "version": 3
   },
   "file_extension": ".py",
   "mimetype": "text/x-python",
   "name": "python",
   "nbconvert_exporter": "python",
   "pygments_lexer": "ipython3",
   "version": "3.7.4"
  }
 },
 "nbformat": 4,
 "nbformat_minor": 2
}
