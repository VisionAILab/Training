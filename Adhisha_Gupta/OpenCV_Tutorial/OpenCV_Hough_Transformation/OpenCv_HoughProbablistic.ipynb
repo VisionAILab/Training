{
 "cells": [
  {
   "cell_type": "markdown",
   "metadata": {},
   "source": [
    "Hough Line Probablistic transform is an optimization of the normal Hough transform  "
   ]
  },
  {
   "cell_type": "code",
   "execution_count": 1,
   "metadata": {},
   "outputs": [],
   "source": [
    "import cv2\n",
    "import numpy as np"
   ]
  },
  {
   "cell_type": "code",
   "execution_count": 2,
   "metadata": {},
   "outputs": [],
   "source": [
    "img = cv2.imread('road.jpg')\n",
    "gray = cv2.cvtColor(img, cv2.COLOR_BGR2GRAY)\n",
    "\n",
    "edges = cv2.Canny(gray,50,150,apertureSize = 3)\n",
    "cv2.imshow('edges', edges)\n",
    "\n",
    "lines = cv2.HoughLinesP(edges,1,np.pi/180,100,minLineLength=100,maxLineGap=10)\n",
    "# 1 is rho - distance resolution of the accumulator in pixels \n",
    "# np.pi/180 is theta - angle resolution  of the accumulator in radians \n",
    "# 100 is threshold - Accumulator threshold parameter. Only those lines are returned that get enough votes ( > threshold )\n",
    "# minLineLength - Minimum length of line. Line segments shorter then this are rejected.\n",
    "# maxLineGap - Max. allowed gap b/w line segments to treat them as a single line.\n",
    "\n",
    "\n",
    "for line in lines:\n",
    "    x1,y1,x2,y2 = line[0]\n",
    "    cv2.line(img,(x1,y1),(x2,y2),(0,255,0),2) # (0,255,0) - color of line # 2 is thickness\n",
    "\n",
    "cv2.imshow('image', img)\n",
    "k = cv2.waitKey(0)\n",
    "cv2.destroyAllWindows()"
   ]
  },
  {
   "cell_type": "code",
   "execution_count": null,
   "metadata": {},
   "outputs": [],
   "source": []
  }
 ],
 "metadata": {
  "kernelspec": {
   "display_name": "Python 3",
   "language": "python",
   "name": "python3"
  },
  "language_info": {
   "codemirror_mode": {
    "name": "ipython",
    "version": 3
   },
   "file_extension": ".py",
   "mimetype": "text/x-python",
   "name": "python",
   "nbconvert_exporter": "python",
   "pygments_lexer": "ipython3",
   "version": "3.7.0"
  }
 },
 "nbformat": 4,
 "nbformat_minor": 2
}
