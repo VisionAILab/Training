{
 "cells": [
  {
   "cell_type": "markdown",
   "metadata": {},
   "source": [
    "Mean Shift works on the following points:- (used for tracking a particular moving object)\n",
    "\n",
    "1. We pass the initial location of our target object and the histogram back projected image to a mean shift function.\n",
    "\n",
    "2. As the object moves, the histogram back projected image also changes.\n",
    "\n",
    "3. The mean shift function moves the window to the new location with the max. probablity density.\n"
   ]
  },
  {
   "cell_type": "markdown",
   "metadata": {},
   "source": [
    "Histogram Back Projected Image - It creates an image of the same size but of a single channel as of our input image, where each pixel corresponds to the probablity of that pixel belonging to our object i.e. the output image will have our object of intrest in more white color compared to the remaining part of that image."
   ]
  },
  {
   "cell_type": "markdown",
   "metadata": {},
   "source": [
    "Limitations of Mean Shift :-\n",
    " \n",
    "1. Size of the target window does not change according to the movement of the object (ex: car window).\n",
    "\n",
    "2. We have to give the initial postion of the region of intrest. "
   ]
  },
  {
   "cell_type": "code",
   "execution_count": null,
   "metadata": {},
   "outputs": [],
   "source": [
    "import numpy as np\n",
    "import cv2 as cv"
   ]
  },
  {
   "cell_type": "code",
   "execution_count": null,
   "metadata": {},
   "outputs": [],
   "source": [
    "cap = cv.VideoCapture('slow_traffic_small.mp4')\n",
    "\n",
    "# take first frame of the video\n",
    "ret, frame = cap.read()\n",
    "\n",
    "\n",
    "# setup initial location of window\n",
    "x, y, width, height = 300, 200, 100, 50\n",
    "track_window = (x, y ,width, height)\n",
    "\n",
    "\n",
    "\n",
    "# set up the ROI for tracking\n",
    "roi = frame[y:y+height, x : x+width]\n",
    "hsv_roi = cv.cvtColor(roi, cv.COLOR_BGR2HSV)\n",
    "mask = cv.inRange(hsv_roi, np.array((0., 60., 32.)), np.array((180., 255., 255))) #np.array((0., 60., 32.) - lower bound and np.array((180., 255., 255)) - upper bound\n",
    "# We use inRange function here to avoid the low light value or false value. \n",
    "\n",
    "roi_hist = cv.calcHist([hsv_roi], [0], mask, [180], [0, 180]) # [0] only 0 is used here because in histogram only hue is considered out of HSV\n",
    "# [180] is the hist size \n",
    "# [0, 180] is the range\n",
    "\n",
    "cv.normalize(roi_hist, roi_hist, 0, 255,cv.NORM_MINMAX)\n",
    "# cv.normalize(source, destination, value of alpha , value of beta, norm type)\n",
    "\n",
    "\n",
    "\n",
    "\n",
    "\n",
    "# Setup the termination criteria, either 10 iteration or move by atleast 1 pt\n",
    "term_crit = ( cv.TERM_CRITERIA_EPS | cv.TERM_CRITERIA_COUNT, 10, 1)\n",
    "\n",
    "cv.imshow('roi',roi)\n",
    "while(1):\n",
    "    ret, frame = cap.read()\n",
    "    if ret == True:\n",
    "\n",
    "        hsv = cv.cvtColor(frame, cv.COLOR_BGR2HSV)\n",
    "        dst = cv.calcBackProject([hsv], [0], roi_hist, [0, 180], 1)\n",
    "        # cv.calcBackProject(no. of images, channels, hist value, ranges, scale)\n",
    "        \n",
    "        # apply meanshift to get the new location\n",
    "        ret, track_window = cv.meanShift(dst, track_window, term_crit)\n",
    "        # cv.meanShift(destination image, tracked image, term criteria) \n",
    "        \n",
    "        # Draw it on image\n",
    "        x,y,w,h = track_window\n",
    "        final_image = cv.rectangle(frame, (x,y), (x+w, y+h), 255, 3)\n",
    "\n",
    "        cv.imshow('dst', dst)\n",
    "        cv.imshow('final_image',final_image)\n",
    "        k = cv.waitKey(30) & 0xff\n",
    "        if k == 27:\n",
    "            break\n",
    "    else:\n",
    "        break"
   ]
  },
  {
   "cell_type": "code",
   "execution_count": null,
   "metadata": {},
   "outputs": [],
   "source": []
  }
 ],
 "metadata": {
  "kernelspec": {
   "display_name": "Python 3",
   "language": "python",
   "name": "python3"
  },
  "language_info": {
   "codemirror_mode": {
    "name": "ipython",
    "version": 3
   },
   "file_extension": ".py",
   "mimetype": "text/x-python",
   "name": "python",
   "nbconvert_exporter": "python",
   "pygments_lexer": "ipython3",
   "version": "3.7.4"
  }
 },
 "nbformat": 4,
 "nbformat_minor": 2
}
