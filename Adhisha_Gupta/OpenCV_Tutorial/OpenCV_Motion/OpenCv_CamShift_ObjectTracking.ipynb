{
 "cells": [
  {
   "cell_type": "markdown",
   "metadata": {},
   "source": [
    "CAMshift - Continiously Adaptive Mean Shift\n",
    "\n",
    "This algorithm applies mean shift first, once the mean shift converges it updates the size of the window.\n",
    "In addition it also updates the orientation of the best fitting eclipse to it."
   ]
  },
  {
   "cell_type": "code",
   "execution_count": null,
   "metadata": {},
   "outputs": [],
   "source": [
    "import numpy as np\n",
    "import cv2 as cv\n",
    "\n",
    "cap = cv.VideoCapture('slow_traffic_small.mp4')\n",
    "\n",
    "# take first frame of the video\n",
    "ret, frame = cap.read()\n",
    "\n",
    "# setup initial location of window\n",
    "x, y, width, height = 300, 200, 100, 50\n",
    "track_window = (x, y ,width, height)\n",
    "\n",
    "# set up the ROI for tracking\n",
    "roi = frame[y:y+height, x : x+width]\n",
    "hsv_roi = cv.cvtColor(roi, cv.COLOR_BGR2HSV)\n",
    "mask = cv.inRange(hsv_roi, np.array((0., 60., 32.)), np.array((180., 255., 255)))\n",
    "roi_hist = cv.calcHist([hsv_roi], [0], mask, [180], [0, 180])\n",
    "cv.normalize(roi_hist, roi_hist, 0, 255,cv.NORM_MINMAX)\n",
    "\n",
    "# Setup the termination criteria, either 10 iteration or move by atleast 1 pt\n",
    "term_crit = ( cv.TERM_CRITERIA_EPS | cv.TERM_CRITERIA_COUNT, 10, 1)\n",
    "cv.imshow('roi',roi)\n",
    "\n",
    "while(1):\n",
    "    ret, frame = cap.read()\n",
    "    if ret == True:\n",
    "\n",
    "        hsv = cv.cvtColor(frame, cv.COLOR_BGR2HSV)\n",
    "        dst = cv.calcBackProject([hsv], [0], roi_hist, [0, 180], 1)\n",
    "        # apply meanshift to get the new location\n",
    "        ret, track_window = cv.CamShift(dst, track_window, term_crit)\n",
    "\n",
    "        # Draw it on image\n",
    "        pts = cv.boxPoints(ret) \n",
    "        print(pts)\n",
    "        pts = np.int0(pts)\n",
    "        final_image = cv.polylines(frame, [pts], True, (0, 255, 0), 2) #It is used to draw a rotating rectangle. #True is to state that rectangle is closed. \n",
    "        #x,y,w,h = track_window\n",
    "        #final_image = cv.rectangle(frame, (x,y), (x+w, y+h), 255, 3)\n",
    "\n",
    "        cv.imshow('dst', dst)\n",
    "        cv.imshow('final_image',final_image)\n",
    "        k = cv.waitKey(30) & 0xff\n",
    "        if k == 27:\n",
    "            break\n",
    "    else:\n",
    "        break"
   ]
  }
 ],
 "metadata": {
  "kernelspec": {
   "display_name": "Python 3",
   "language": "python",
   "name": "python3"
  },
  "language_info": {
   "codemirror_mode": {
    "name": "ipython",
    "version": 3
   },
   "file_extension": ".py",
   "mimetype": "text/x-python",
   "name": "python",
   "nbconvert_exporter": "python",
   "pygments_lexer": "ipython3",
   "version": "3.7.4"
  }
 },
 "nbformat": 4,
 "nbformat_minor": 2
}
