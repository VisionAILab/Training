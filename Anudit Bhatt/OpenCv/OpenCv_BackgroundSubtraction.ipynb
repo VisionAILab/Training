{
 "cells": [
  {
   "cell_type": "code",
   "execution_count": null,
   "metadata": {},
   "outputs": [],
   "source": [
    "# Background Subtraction is used to generate the foreground mask which is also known as the binary image containing the pixels belonging to the moving object of a scene when these images are captured using a static camera.\n",
    "\n",
    "import numpy as np\n",
    "import cv2 as cv"
   ]
  },
  {
   "cell_type": "code",
   "execution_count": null,
   "metadata": {},
   "outputs": [],
   "source": [
    "\n",
    "\n",
    "cap = cv.VideoCapture('vtest.avi')\n",
    "#kernel = cv.getStructuringElement(cv.MORPH_ELLIPSE, (3,3))\n",
    "\n",
    "\n",
    "fgbg = cv.bgsegm.createBackgroundSubtractorMOG()\n",
    "# createBackgroundSubtractorMOG() method is a gaussain mixture based  background and foreground segmentation algorithm.\n",
    "# We are using this to create a background object of the function.\n",
    "\n",
    "\n",
    "#fgbg = cv.bgsegm.BackgroundSubtractorGMG() #\n",
    "#This algorithm combines statistical background image estimation and pre-pixel biasian segmentation.\n",
    "\n",
    "\n",
    "#fgbg = cv.createBackgroundSubtractorMOG2(detectShadows=True)\n",
    "#This method also detects the shadows of any moving object in the frame. \n",
    "\n",
    "#fgbg = cv.createBackgroundSubtractorKNN(detectShadows=True)\n",
    "\n",
    "\n",
    "while True:\n",
    "    ret, frame = cap.read()\n",
    "    if frame is None:\n",
    "        break\n",
    "    fgmask = fgbg.apply(frame) #this is to create a foreground mask. \n",
    "    #fgmask = cv.morphologyEx(fgmask, cv.MORPH_OPEN, kernel) # This is used for GMG method  \n",
    "\n",
    "    cv.imshow('Frame', frame)\n",
    "    cv.imshow('FG MASK Frame', fgmask)\n",
    "\n",
    "    keyboard = cv.waitKey(30)\n",
    "    if keyboard == 'q' or keyboard == 27:\n",
    "        break\n",
    "cap.release()\n",
    "cv.destroyAllWindows()"
   ]
  }
 ],
 "metadata": {
  "kernelspec": {
   "display_name": "Python 3",
   "language": "python",
   "name": "python3"
  },
  "language_info": {
   "codemirror_mode": {
    "name": "ipython",
    "version": 3
   },
   "file_extension": ".py",
   "mimetype": "text/x-python",
   "name": "python",
   "nbconvert_exporter": "python",
   "pygments_lexer": "ipython3",
   "version": "3.7.4"
  }
 },
 "nbformat": 4,
 "nbformat_minor": 2
}
