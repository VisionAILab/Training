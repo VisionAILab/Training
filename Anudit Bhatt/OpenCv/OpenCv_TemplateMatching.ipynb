{
 "cells": [
  {
   "cell_type": "code",
   "execution_count": 4,
   "metadata": {},
   "outputs": [],
   "source": [
    "# Template Matching is the method of searching and finding the location of a templete image inside a larger image.\n",
    "\n",
    "import cv2\n",
    "import numpy as np\n",
    "img = cv2.imread(\"F:/messi.jpg\")"
   ]
  },
  {
   "cell_type": "code",
   "execution_count": 5,
   "metadata": {},
   "outputs": [
    {
     "name": "stdout",
     "output_type": "stream",
     "text": [
      "[[0.5998727  0.6059889  0.6140785  ... 0.7978744  0.799312   0.8009672 ]\n",
      " [0.6084354  0.6142141  0.621797   ... 0.7951076  0.79581237 0.79683924]\n",
      " [0.6176634  0.6229683  0.63024855 ... 0.79237163 0.792251   0.7924582 ]\n",
      " ...\n",
      " [0.85123634 0.8511445  0.85103613 ... 0.8385212  0.8381776  0.8385832 ]\n",
      " [0.85194564 0.8523055  0.85240114 ... 0.8343016  0.8343029  0.8341834 ]\n",
      " [0.8532243  0.8528339  0.85292757 ... 0.83101434 0.8316856  0.8320831 ]]\n",
      "(array([85], dtype=int64), array([220], dtype=int64))\n"
     ]
    }
   ],
   "source": [
    "grey_img = cv2.cvtColor(img, cv2.COLOR_BGR2GRAY)\n",
    "template = cv2.imread(\"F:/messi_face.jpg\", 0)\n",
    "w, h = template.shape[::-1] #To get the width and height of the template\n",
    "\n",
    "res = cv2.matchTemplate(grey_img, template, cv2.TM_CCORR_NORMED )\n",
    "print(res) #In this result the no. closest to 1 will be our brightest point....it will be the top left corner of the template which matches with the orignal image.\n",
    "\n",
    "threshold = 0.99;\n",
    "\n",
    "loc = np.where(res >= threshold) #This is used to find out the brightest point in the matrix.\n",
    "print(loc)\n",
    "\n",
    "for pt in zip(*loc[::-1]): #To draw the rectangle over the matched template in our original image.  \n",
    "    cv2.rectangle(img, pt, (pt[0] + w, pt[1] + h), (0, 0, 255), 2) #(pt[0] + w, pt[1] + h) this is used to get the bottom right corner of the template. \n",
    "\n",
    "cv2.imshow(\"img\", img)\n",
    "cv2.waitKey(0)\n",
    "cv2.destroyAllWindows()"
   ]
  },
  {
   "cell_type": "code",
   "execution_count": null,
   "metadata": {},
   "outputs": [],
   "source": []
  }
 ],
 "metadata": {
  "kernelspec": {
   "display_name": "Python 3",
   "language": "python",
   "name": "python3"
  },
  "language_info": {
   "codemirror_mode": {
    "name": "ipython",
    "version": 3
   },
   "file_extension": ".py",
   "mimetype": "text/x-python",
   "name": "python",
   "nbconvert_exporter": "python",
   "pygments_lexer": "ipython3",
   "version": "3.7.4"
  }
 },
 "nbformat": 4,
 "nbformat_minor": 2
}
