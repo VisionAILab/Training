{
 "cells": [
  {
   "cell_type": "markdown",
   "metadata": {},
   "source": [
    "Harr Cascade uses a cascade function which is trained for positive and negetive images.\n",
    "\n",
    "First a classifier is trained with a few hundred sample views of a perticular object (i.e., a face or a car), called positive examples, that are scaled to the same size (say, 20x20), and negetive examples - arbitary images of the same size.\n",
    "\n"
   ]
  },
  {
   "cell_type": "code",
   "execution_count": null,
   "metadata": {},
   "outputs": [],
   "source": [
    "import cv2"
   ]
  },
  {
   "cell_type": "code",
   "execution_count": null,
   "metadata": {},
   "outputs": [],
   "source": [
    "face_cascade = cv2.CascadeClassifier('F:/haarcascade_frontalface_default.xml')\n",
    "# Read the input image\n",
    "#img = cv2.imread('test.png')\n",
    "cap = cv2.VideoCapture('test.mp4')\n",
    "\n",
    "while cap.isOpened():\n",
    "    _, img = cap.read()\n",
    "\n",
    "    \n",
    "    gray = cv2.cvtColor(img, cv2.COLOR_BGR2GRAY)\n",
    "    faces = face_cascade.detectMultiScale(gray, 1.1, 4)\n",
    "    # 1.1 is scale factor - It tells us that how much the image size is reducedat each image scale.\n",
    "    # 4 is minNeighbours - Parameter specifying how many neighbours each candidate rectangle should have to retain it.\n",
    "    \n",
    "    \n",
    "    for (x, y , w ,h) in faces:\n",
    "        cv2.rectangle(img, (x,y), (x+w, y+h), (255, 0 , 0), 3)\n",
    "\n",
    "    # Display the output\n",
    "    cv2.imshow('img', img)\n",
    "    if cv2.waitKey(1) & 0xFF == ord('q'): # If someone presses q we will break out of our while loop.\n",
    "        break\n",
    "\n",
    "cap.release()       "
   ]
  }
 ],
 "metadata": {
  "kernelspec": {
   "display_name": "Python 3",
   "language": "python",
   "name": "python3"
  },
  "language_info": {
   "codemirror_mode": {
    "name": "ipython",
    "version": 3
   },
   "file_extension": ".py",
   "mimetype": "text/x-python",
   "name": "python",
   "nbconvert_exporter": "python",
   "pygments_lexer": "ipython3",
   "version": "3.7.4"
  }
 },
 "nbformat": 4,
 "nbformat_minor": 2
}
