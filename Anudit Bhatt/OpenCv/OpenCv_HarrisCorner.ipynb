{
 "cells": [
  {
   "cell_type": "markdown",
   "metadata": {},
   "source": [
    "Corners are the region in the image with large invariation intensity in all the directions  "
   ]
  },
  {
   "cell_type": "markdown",
   "metadata": {},
   "source": [
    "Detecting corners through Harris Corner involves three main steps \n",
    "\n",
    "1. Determine which windows produce very large variations in intensity when moved in both X & Y directions. \n",
    "2. With each such window found, a score R is computed. \n",
    "3. After applying a threshold to this score, important corners are selected & marked."
   ]
  },
  {
   "cell_type": "code",
   "execution_count": null,
   "metadata": {},
   "outputs": [],
   "source": [
    "import numpy as np\n",
    "import cv2 as cv"
   ]
  },
  {
   "cell_type": "code",
   "execution_count": null,
   "metadata": {},
   "outputs": [],
   "source": [
    "img = cv.imread('F:/chess-board.png')\n",
    "\n",
    "cv.imshow('img', img)\n",
    "gray = cv.cvtColor(img, cv.COLOR_BGR2GRAY)\n",
    "\n",
    "gray = np.float32(gray) # In Harris corner maethod gray image needs to be in float32 format \n",
    "dst = cv.cornerHarris(gray, 2, 3, 0.04) #2 is the block size( It is the size of the neighbourhood considered for corner detection)\n",
    "#3 is the k-size ( Aperture parameter of sobel darivative used) \n",
    "#0.04 is the k ( Harris detector free parameter in the equation). \n",
    "\n",
    "dst = cv.dilate(dst, None)\n",
    "\n",
    "img[dst > 0.01 * dst.max()] = [0, 0, 255]\n",
    "\n",
    "cv.imshow('dst', img)\n",
    "\n",
    "if cv.waitKey(0) & 0xff == 27:\n",
    "    cv.destroyAllWindows()"
   ]
  }
 ],
 "metadata": {
  "kernelspec": {
   "display_name": "Python 3",
   "language": "python",
   "name": "python3"
  },
  "language_info": {
   "codemirror_mode": {
    "name": "ipython",
    "version": 3
   },
   "file_extension": ".py",
   "mimetype": "text/x-python",
   "name": "python",
   "nbconvert_exporter": "python",
   "pygments_lexer": "ipython3",
   "version": "3.7.4"
  }
 },
 "nbformat": 4,
 "nbformat_minor": 2
}
